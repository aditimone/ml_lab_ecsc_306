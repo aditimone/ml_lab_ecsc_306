{
 "cells": [
  {
   "cell_type": "code",
   "execution_count": 2,
   "metadata": {},
   "outputs": [
    {
     "name": "stdout",
     "output_type": "stream",
     "text": [
      "4\n"
     ]
    }
   ],
   "source": [
    "import tensorflow as tf\n",
    "with tf.name_scope(\"Myhw\"):\n",
    "    with tf.name_scope(\"Square_a\"):\n",
    "                a = 2\n",
    "                c = tf.pow(a,2)\n",
    "    \n",
    "    with tf.name_scope(\"Square_b\"):\n",
    "                b = 4\n",
    "                d = tf.pow(b,2)\n",
    "\n",
    "    with tf.name_scope(\"mult\"):\n",
    "            e = tf.multiply(a, b)\n",
    "    with tf.name_scope(\"2ab\"):\n",
    "            f = tf.multiply(e,2)\n",
    "    with tf.name_scope(\"final\"):\n",
    "        g = tf.add(c, d)\n",
    "        h = tf.subtract(g,f)\n",
    "\n",
    "\n",
    "with tf.Session() as sess:\n",
    "    writer = tf.summary.FileWriter(\"/tmp/tboard/output3\", sess.graph)\n",
    "    print(sess.run(h))\n",
    "    writer.close()"
   ]
  },
  {
   "cell_type": "code",
   "execution_count": null,
   "metadata": {
    "collapsed": true
   },
   "outputs": [],
   "source": []
  }
 ],
 "metadata": {
  "kernelspec": {
   "display_name": "Python 3",
   "language": "python",
   "name": "python3"
  },
  "language_info": {
   "codemirror_mode": {
    "name": "ipython",
    "version": 3
   },
   "file_extension": ".py",
   "mimetype": "text/x-python",
   "name": "python",
   "nbconvert_exporter": "python",
   "pygments_lexer": "ipython3",
   "version": "3.6.1"
  }
 },
 "nbformat": 4,
 "nbformat_minor": 2
}
