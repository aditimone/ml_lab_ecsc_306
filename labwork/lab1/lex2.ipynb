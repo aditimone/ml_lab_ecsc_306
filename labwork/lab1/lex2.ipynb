{
 "cells": [
  {
   "cell_type": "code",
   "execution_count": 5,
   "metadata": {},
   "outputs": [
    {
     "name": "stdout",
     "output_type": "stream",
     "text": [
      "4\n"
     ]
    }
   ],
   "source": [
    "import tensorflow as tf\n",
    "with tf.name_scope(\"Myhw\"):\n",
    "    with tf.name_scope(\"Square_a\"):\n",
    "                a = 2\n",
    "                d = tf.pow(a,2)\n",
    "    with tf.name_scope(\"Square_b\"):\n",
    "                b = 4\n",
    "                e = tf.pow(b,2)\n",
    "    with tf.name_scope(\"Square_b\"):\n",
    "                c = 4\n",
    "                f = tf.pow(b,2)\n",
    "    with tf.name_scope(\"mult\"):\n",
    "            g = tf.multiply(a, b)\n",
    "    with tf.name_scope(\"2ab\"):\n",
    "            h = tf.multiply(g,2)\n",
    "            \n",
    "    with tf.name_scope(\"mult\"):\n",
    "            i = tf.multiply(b, c)\n",
    "    with tf.name_scope(\"2bc\"):\n",
    "            j = tf.multiply(i,2)\n",
    "            \n",
    "    with tf.name_scope(\"mult\"):\n",
    "            k = tf.multiply(a, c)\n",
    "    with tf.name_scope(\"2ac\"):\n",
    "            l = tf.multiply(k,2)\n",
    "            \n",
    "    with tf.name_scope(\"final\"):\n",
    "        with tf.name_scope(\"add_1\"):\n",
    "            m = tf.add(d,e)\n",
    "            with tf.name_scope(\"add_2\"):\n",
    "                n = tf.add(m,f)\n",
    "                with tf.name_scope(\"add_3\"):\n",
    "                    o = tf.add(n,h)\n",
    "                    with tf.name_scope(\"sub_1\"):\n",
    "                        p = tf.subtract(o,j)\n",
    "                        with tf.name_scope(\"sub_2\"):\n",
    "                            q = tf.subtract(p,l)\n",
    "        \n",
    "\n",
    "\n",
    "with tf.Session() as sess:\n",
    "    writer = tf.summary.FileWriter(\"/tmp/tboard/output4\", sess.graph)\n",
    "    print(sess.run(q))\n",
    "    writer.close()"
   ]
  },
  {
   "cell_type": "code",
   "execution_count": null,
   "metadata": {
    "collapsed": true
   },
   "outputs": [],
   "source": []
  }
 ],
 "metadata": {
  "kernelspec": {
   "display_name": "Python 3",
   "language": "python",
   "name": "python3"
  },
  "language_info": {
   "codemirror_mode": {
    "name": "ipython",
    "version": 3
   },
   "file_extension": ".py",
   "mimetype": "text/x-python",
   "name": "python",
   "nbconvert_exporter": "python",
   "pygments_lexer": "ipython3",
   "version": "3.6.1"
  }
 },
 "nbformat": 4,
 "nbformat_minor": 2
}
